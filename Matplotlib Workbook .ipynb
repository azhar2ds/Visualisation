{
 "cells": [
  {
   "cell_type": "markdown",
   "metadata": {},
   "source": [
    "# MATPLOTLIB Exercise workbook"
   ]
  },
  {
   "cell_type": "code",
   "execution_count": null,
   "metadata": {},
   "outputs": [],
   "source": [
    "There are many types Of Plots, Mostly we use the following plots.\n",
    "– Bar Graph\n",
    "– Histogram\n",
    "– Scatter Plot\n",
    "– Area Plot\n",
    "– Pie Chart\n"
   ]
  },
  {
   "cell_type": "markdown",
   "metadata": {},
   "source": [
    "Types Of Plots\n",
    "–  Bar Graph\n",
    "– Histogram\n",
    "– Scatter Plot\n",
    "– Area Plot\n",
    "– Pie Chart\n",
    "\n",
    "\n",
    "\n",
    " ##Correlation##\n",
    "Scatter plot, Bubble plot with Encircling, Scatter plot with line of best fit, Jittering with stripplot, Counts Plot,\n",
    "Marginal Histogram, Marginal Boxplot, Correlogram, Pairwise Plot\n",
    "\n",
    "##Deviation##\n",
    "Diverging Bars\n",
    "Diverging Texts\n",
    "Diverging Dot Plot\n",
    "Diverging Lollipop Chart with Markers\n",
    "Area Chart\n",
    "\n",
    "##Ranking##\n",
    "Ordered Bar Chart\n",
    "Lollipop Chart\n",
    "Dot Plot\n",
    "Slope Chart\n",
    "Dumbbell Plot\n",
    "\n",
    "##Distribution##\n",
    "Histogram for Continuous Variable\n",
    "Histogram for Categorical Variable\n",
    "Density Plot\n",
    "Density Curves with Histogram\n",
    "Joy Plot\n",
    "Distributed Dot Plot\n",
    "Box Plot\n",
    "Dot + Box Plot\n",
    "Violin Plot\n",
    "Population Pyramid\n",
    "Categorical Plots\n",
    "\n",
    "##Composition##\n",
    "Waffle Chart\n",
    "Pie Chart\n",
    "Treemap\n",
    "Bar Chart\n",
    "\n",
    "##Change##\n",
    "Time Series Plot\n",
    "Time Series with Peaks and Troughs Annotated\n",
    "Autocorrelation Plot\n",
    "Cross Correlation Plot\n",
    "Time Series Decomposition Plot\n",
    "Multiple Time Series\n",
    "Plotting with different scales using secondary Y axis\n",
    "Time Series with Error Bands\n",
    "Stacked Area Chart\n",
    "Area Chart Unstacked\n",
    "Calendar Heat Map\n",
    "Seasonal Plot\n",
    "\n",
    "##Groups##\n",
    "Dendrogram\n",
    "Cluster Plot\n",
    "Andrews Curve\n",
    "Parallel Coordinates\n",
    "\n"
   ]
  },
  {
   "cell_type": "code",
   "execution_count": null,
   "metadata": {},
   "outputs": [],
   "source": [
    "import numpy as np\n",
    "import pandas as pd\n",
    "import pandas_profiling as pp\n",
    "import scipy as sci\n",
    "import seaborn as sns\n",
    "import matplotlib.pyplot as plt\n",
    "import plotly as px\n",
    "import joypy as jp"
   ]
  },
  {
   "cell_type": "markdown",
   "metadata": {},
   "source": [
    "***1) How many functions are there in matplotlib and matplotlib.pyplot ? And what are they?***"
   ]
  },
  {
   "cell_type": "code",
   "execution_count": null,
   "metadata": {},
   "outputs": [],
   "source": [
    "print(dir(np)) # what are the functions in matplotlib\n",
    "print(dir(pd)) # what are the functions in pandas\n",
    "print(dir(pp)) # what are the functions in pandas profiling\n",
    "print(dir(sci)) # what are the functions in scipy\n",
    "print(dir(sns)) # what are the functions in sns\n",
    "print(dir(plt)) # Total number of functions in matplotlib.pyplot\n",
    "print(dir(px)) # what are the functions in plotly\n",
    "print(dir(jp)) # whar are the functions in joypy"
   ]
  },
  {
   "cell_type": "markdown",
   "metadata": {},
   "source": [
    "***2) How many functions are there in other modules ? ***"
   ]
  },
  {
   "cell_type": "code",
   "execution_count": null,
   "metadata": {},
   "outputs": [],
   "source": [
    "print(\"numpy\", len(dir(np)))\n",
    "print(\"pands\", len(dir(pd)))\n",
    "print(\"pands-profiling\", len(dir(pp)))\n",
    "print(\"sci\", len(dir(sci)))\n",
    "print(\"seaborn\", len(dir(sns)))\n",
    "print(\"matplotlib.pyploy\", len(dir(plt)))\n",
    "print(\"plotly\", len(dir(px)))\n",
    "print(\"joypy\", len(dir(jp)))"
   ]
  },
  {
   "cell_type": "markdown",
   "metadata": {},
   "source": [
    "Configuration for enhanced and richplot"
   ]
  },
  {
   "cell_type": "code",
   "execution_count": null,
   "metadata": {},
   "outputs": [],
   "source": [
    "Setting up the diagram for enhanced and richplot\n",
    "\n",
    "\n",
    "import numpy as np\n",
    "import pandas as pd\n",
    "import matplotlib as mpl\n",
    "import matplotlib.pyplot as plt\n",
    "import seaborn as sns\n",
    "import warnings; warnings.filterwarnings(action='once')\n",
    "\n",
    "large = 22; med = 16; small = 12\n",
    "params = {'axes.titlesize': large,\n",
    "          'legend.fontsize': med,\n",
    "          'figure.figsize': (16, 10),\n",
    "          'axes.labelsize': med,\n",
    "          'axes.titlesize': med,\n",
    "          'xtick.labelsize': med,\n",
    "          'ytick.labelsize': med,\n",
    "          'figure.titlesize': large}\n",
    "plt.rcParams.update(params)\n",
    "plt.style.use('seaborn-whitegrid')\n",
    "sns.set_style(\"white\")\n",
    "%matplotlib inline"
   ]
  },
  {
   "cell_type": "markdown",
   "metadata": {},
   "source": [
    "***3) How to plot some random values on graph ? ***"
   ]
  },
  {
   "cell_type": "code",
   "execution_count": null,
   "metadata": {},
   "outputs": [],
   "source": [
    "a=(np.random.randint(100,150,10))\n",
    "plt.plot(a, 'g') \n",
    "\n",
    "# 'r' stands for redline\n",
    "# 'g' stands for greenline\n",
    "# 'b' stands for blueline\n",
    "# '*r'  / 'r* 'stands for red stars\n",
    "# '*b' / 'b*' stands for blue stars\n",
    "# '*g' / 'g*' stands for green stars\n"
   ]
  },
  {
   "cell_type": "markdown",
   "metadata": {},
   "source": [
    "***4) How to plot ordered ndarray ? ***"
   ]
  },
  {
   "cell_type": "code",
   "execution_count": null,
   "metadata": {},
   "outputs": [],
   "source": [
    "test=np.linspace(10,100,20)\n",
    "plt.plot(test, '*r')\n",
    "plt.plot(test, 'g')\n",
    "plt.show"
   ]
  },
  {
   "cell_type": "raw",
   "metadata": {},
   "source": [
    "*** Note: \n",
    "The plt.plot accepts 3 basic arguments in the following order: (x, y, format).\n",
    "format is a short hand combination of {color}{marker}{line}.\n",
    "* 'r*--' : ‘red stars with dashed lines’\n",
    "* 'ks.' : ‘black squares with dotted line’ (‘k’ stands for black)\n",
    "* 'bD-.' : ‘blue diamonds with dash-dot line’.\n",
    "# for complete details try help(plt.plot)"
   ]
  },
  {
   "cell_type": "markdown",
   "metadata": {},
   "source": [
    "***5) How to plot 2 colomns from dataframe???***"
   ]
  },
  {
   "cell_type": "code",
   "execution_count": null,
   "metadata": {},
   "outputs": [],
   "source": [
    "val=pd.read_csv('income.csv')\n",
    "x=val['income']\n",
    "y=val['expenses']\n",
    "plt.plot(x,'ks')\n",
    "plt.plot(y,'r*--')"
   ]
  },
  {
   "cell_type": "markdown",
   "metadata": {},
   "source": [
    "***6) How to label x axis and y axis?***"
   ]
  },
  {
   "cell_type": "code",
   "execution_count": null,
   "metadata": {},
   "outputs": [],
   "source": [
    "val=pd.read_csv('income.csv') # extracting dataframe from csv file.\n",
    "x=val['income']\n",
    "y=val['expenses']\n",
    "plt.title(\"income and expenses\")\n",
    "plt.xlabel('income')\n",
    "plt.ylabel('expenses')\n",
    "plt.plot(x, '*r--', label='Income')\n",
    "plt.plot(y, 'g', label='Expenses')\n",
    "plt.legend()\n",
    "#  Matplotlib returns the plot object itself besides drawing the plot.\n",
    "# If you only want to see the plot, add plt.show() at the end and execute all the lines in one shot."
   ]
  },
  {
   "cell_type": "markdown",
   "metadata": {},
   "source": [
    "***7) How to plot 2 arrays & how to label them? ***"
   ]
  },
  {
   "cell_type": "code",
   "execution_count": null,
   "metadata": {},
   "outputs": [],
   "source": [
    "plt.plot([1,2,3,4,5], [1,2,3,4,10], 'g-D', label='GreenDots')\n",
    "plt.plot([1,2,3,4,5], [2,3,4,5,11], 'm*', label='Bluestars')\n",
    "plt.title('A Simple Scatterplot')\n",
    "plt.xlabel('X')\n",
    "plt.ylabel('Y')\n",
    "plt.legend()  # legend text comes from the plot's label parameter.\n",
    "plt.show()"
   ]
  },
  {
   "cell_type": "code",
   "execution_count": null,
   "metadata": {},
   "outputs": [],
   "source": [
    "plt.plot([2,4,8,16,32,64], 'r*', label='x-axis')\n",
    "plt.plot([1,3,6,12,24,48], 'go', label='y-axis')\n",
    "plt.title('2 days data')\n",
    "plt.xlabel('x')\n",
    "plt.ylabel('y')\n",
    "plt.legend()"
   ]
  },
  {
   "cell_type": "code",
   "execution_count": null,
   "metadata": {},
   "outputs": [],
   "source": [
    "plt.plot([2,4,8,16,32,64], 'r*', label='y-axis')\n",
    "plt.plot([1,3,6,12,24,48], 'm-D', label='x-axis')\n",
    "plt.title('2 days data')\n",
    "plt.xlabel('x')\n",
    "plt.ylabel('y')\n",
    "plt.legend()\n",
    "plt.show()"
   ]
  },
  {
   "cell_type": "markdown",
   "metadata": {},
   "source": [
    "***8) How to resize the plot? ***"
   ]
  },
  {
   "cell_type": "code",
   "execution_count": null,
   "metadata": {},
   "outputs": [],
   "source": [
    "val=pd.read_csv('income.csv')\n",
    "x=val[['income']]\n",
    "y=val[['expenses']]\n",
    "plt.figure(figsize=(12,6))\n",
    "plt.title('Income & Expenses')\n",
    "plt.xlabel('Income')\n",
    "plt.ylabel('Expenses')\n",
    "plt.plot(x, 'r-D', label='income'); plt.plot(y, 'b*', label='expenses')\n",
    "plt.legend()\n",
    "\n",
    "\n",
    "\n"
   ]
  },
  {
   "cell_type": "markdown",
   "metadata": {},
   "source": [
    "***9)How to draw 2 scatterplots in different panels ??  ***"
   ]
  },
  {
   "cell_type": "code",
   "execution_count": null,
   "metadata": {},
   "outputs": [],
   "source": [
    "plt.figure(figsize=(10,4), dpi=120) # 10 is width, 4 is height\n",
    "\n",
    "# Left hand side plot\n",
    "plt.subplot(1,2,1)  # (nRows, nColumns, axes number to plot)\n",
    "plt.plot([1,2,3,4,5], [1,2,3,4,10], 'go')  # green dots\n",
    "plt.title('Scatterplot Greendots')  \n",
    "plt.xlabel('X'); plt.ylabel('Y')\n",
    "plt.xlim(0, 6); plt.ylim(0, 12)\n",
    "\n",
    "# Right hand side plot\n",
    "plt.subplot(1,2,2)\n",
    "plt.plot([1,2,3,4,5], [2,3,4,5,11], 'b*')  # blue stars\n",
    "plt.title('Scatterplot Bluestars')  \n",
    "plt.xlabel('X'); plt.ylabel('Y')\n",
    "plt.xlim(0, 6); plt.ylim(0, 12)\n",
    "plt.show()"
   ]
  },
  {
   "cell_type": "code",
   "execution_count": null,
   "metadata": {},
   "outputs": [],
   "source": [
    "fig, (ax1, ax2) = plt.subplots(1,2, figsize=(10,4), sharey=True, dpi=120)# sharey=True in plt.subplots() shares the Y axis between the 2\n",
    "\n",
    "# Plot\n",
    "ax1.plot([1,2,3,4,5], [1,2,3,4,10], 'go')  # greendots\n",
    "ax2.plot([1,2,3,4,5], [2,3,4,5,11], 'b*')  # bluestart\n",
    "\n",
    "# Title, X and Y labels, X and Y Lim\n",
    "ax1.set_title('Scatterplot Greendots'); ax2.set_title('Scatterplot Bluestars')\n",
    "ax1.set_xlabel('X');  ax2.set_xlabel('X')  # x label\n",
    "ax1.set_ylabel('Y');  ax2.set_ylabel('Y')  # y label\n",
    "ax1.set_xlim(0, 6) ;  ax2.set_xlim(0, 6)   # x axis limits\n",
    "ax1.set_ylim(0, 12);  ax2.set_ylim(0, 12)  # y axis limits\n",
    "\n",
    "# ax2.yaxis.set_ticks_position('none') \n",
    "plt.tight_layout()\n",
    "plt.show()"
   ]
  },
  {
   "cell_type": "code",
   "execution_count": null,
   "metadata": {},
   "outputs": [],
   "source": [
    "plt.figure(figsize=(5,2), dpi=95) # 10 is width, 4 is height\n",
    "\n",
    "# Left hand side plot\n",
    "plt.subplot(1,2,1)  # (nRows, nColumns, axes number to plot)\n",
    "plt.plot([1,2,3,4,5], [1,2,3,4,10], 'go')  # green dots\n",
    "plt.title('Scatterplot Greendots')  \n",
    "plt.xlabel('X'); plt.ylabel('Y')\n",
    "plt.xlim(0, 6); plt.ylim(0, 12)\n",
    "\n",
    "# Right hand side plot\n",
    "plt.subplot(1,2,2)\n",
    "plt.plot([1,2,3,4,5], [2,3,4,5,11], 'b*')  # blue stars\n",
    "plt.title('Scatterplot Bluestars')  \n",
    "plt.xlabel('X'); plt.ylabel('Y')\n",
    "plt.xlim(0, 6); plt.ylim(0, 12)\n",
    "plt.show()"
   ]
  },
  {
   "cell_type": "markdown",
   "metadata": {},
   "source": [
    "***10)How to Modify the Axis Ticks Positions and Labels***"
   ]
  },
  {
   "cell_type": "code",
   "execution_count": null,
   "metadata": {},
   "outputs": [],
   "source": [
    "from matplotlib.ticker import FuncFormatter\n",
    "\n",
    "def rad_to_degrees(x, pos):\n",
    "    'converts radians to degrees'\n",
    "    return round(x * 57.2985, 2)\n",
    "\n",
    "plt.figure(figsize=(12,7), dpi=40)\n",
    "X = np.linspace(0,2*np.pi,1000)\n",
    "plt.plot(X,np.sin(X))\n",
    "plt.plot(X,np.cos(X))\n",
    "\n",
    "# 1. Adjust x axis Ticks\n",
    "plt.xticks(ticks=np.arange(0, 440/57.2985, 90/57.2985), fontsize=12, rotation=30, ha='center', va='top')  # 1 radian = 57.2985 degrees\n",
    "\n",
    "# 2. Tick Parameters\n",
    "plt.tick_params(axis='both',bottom=True, top=True, left=True, right=True, direction='in', which='major', grid_color='blue')\n",
    "\n",
    "# 3. Format tick labels to convert radians to degrees\n",
    "formatter = FuncFormatter(rad_to_degrees)\n",
    "plt.gca().xaxis.set_major_formatter(formatter)\n",
    "\n",
    "plt.grid(linestyle='--', linewidth=0.5, alpha=0.15)\n",
    "plt.title('Sine and Cosine Waves\\n(Notice the ticks are on all 4 sides pointing inwards, radians converted to degrees in x axis)', fontsize=14)\n",
    "plt.show()"
   ]
  },
  {
   "cell_type": "markdown",
   "metadata": {},
   "source": [
    "***10) How to Customise the Legend??***"
   ]
  },
  {
   "cell_type": "code",
   "execution_count": null,
   "metadata": {},
   "outputs": [],
   "source": [
    "# plt.style.use('seaborn-notebook')\n",
    "plt.figure(figsize=(10,7), dpi=50)\n",
    "X = np.linspace(0, 2*np.pi, 1000)\n",
    "sine = plt.plot(X,np.sin(X)); cosine = plt.plot(X,np.cos(X))\n",
    "sine_2 = plt.plot(X,np.sin(X+.5)); cosine_2 = plt.plot(X,np.cos(X+.5))\n",
    "plt.gca().set(ylim=(-1.25, 1.5), xlim=(-.5, 7))\n",
    "plt.title('Custom Legend Example', fontsize=18)\n",
    "\n",
    "# Modify legend\n",
    "plt.legend([sine[0], cosine[0], sine_2[0], cosine_2[0]],   # plot items\n",
    "           ['sine curve', 'cosine curve', 'sine curve 2', 'cosine curve 2'],  \n",
    "           frameon=True,                                   # legend border\n",
    "           framealpha=1,                                   # transparency of border\n",
    "           ncol=2,                                         # num columns\n",
    "           shadow=True,                                    # shadow on\n",
    "           borderpad=1,                                    # thickness of border\n",
    "           title='Sines and Cosines')                      # title\n",
    "plt.show()"
   ]
  },
  {
   "cell_type": "markdown",
   "metadata": {},
   "source": [
    "***11) How to Add Texts, Arrows and Annotations ***"
   ]
  },
  {
   "cell_type": "code",
   "execution_count": null,
   "metadata": {},
   "outputs": [],
   "source": [
    "# Texts, Arrows and Annotations Example\n",
    "# ref: https://matplotlib.org/users/annotations_guide.html\n",
    "plt.figure(figsize=(14,7), dpi=60)\n",
    "X = np.linspace(0, 8*np.pi, 1000)\n",
    "sine = plt.plot(X,np.sin(X), color='tab:blue');\n",
    "\n",
    "# 1. Annotate with Arrow Props and bbox\n",
    "plt.annotate('Peaks', xy=(90/57.2985, 1.0), xytext=(90/57.2985, 1.5),\n",
    "             bbox=dict(boxstyle='square', fc='green', linewidth=0.1),\n",
    "             arrowprops=dict(facecolor='green', shrink=0.01, width=0.1), \n",
    "             fontsize=12, color='white', horizontalalignment='center')\n",
    "\n",
    "# 2. Texts at Peaks and Troughs\n",
    "for angle in [440, 810, 1170]:\n",
    "    plt.text(angle/57.2985, 1.05, str(angle) + \"\\ndegrees\", transform=plt.gca().transData, horizontalalignment='center', color='green')\n",
    "\n",
    "for angle in [270, 630, 990, 1350]:\n",
    "    plt.text(angle/57.2985, -1.3, str(angle) + \"\\ndegrees\", transform=plt.gca().transData, horizontalalignment='center', color='red')    \n",
    "\n",
    "plt.gca().set(ylim=(-2.0, 2.0), xlim=(-.5, 26))\n",
    "plt.title('Annotations and Texts Example', fontsize=18)\n",
    "plt.show()"
   ]
  },
  {
   "cell_type": "code",
   "execution_count": null,
   "metadata": {},
   "outputs": [],
   "source": [
    "# Texts, Arrows and Annotations Example\n",
    "plt.figure(figsize=(14,7), dpi=80)\n",
    "X = np.linspace(0, 8*np.pi, 1000)\n",
    "\n",
    "# Text Relative to DATA\n",
    "plt.text(0.50, 0.02, \"Text relative to the DATA centered at : (0.50, 0.02)\", transform=plt.gca().transData, fontsize=14, ha='center', color='blue')\n",
    "\n",
    "# Text Relative to AXES\n",
    "plt.text(0.50, 0.02, \"Text relative to the AXES centered at : (0.50, 0.02)\", transform=plt.gca().transAxes, fontsize=14, ha='center', color='blue')\n",
    "\n",
    "# Text Relative to FIGURE\n",
    "plt.text(0.50, 0.02, \"Text relative to the FIGURE centered at : (0.50, 0.02)\", transform=plt.gcf().transFigure, fontsize=14, ha='center', color='blue')\n",
    "\n",
    "plt.gca().set(ylim=(-2.0, 2.0), xlim=(0, 2))\n",
    "plt.title('Placing Texts Relative to Data, Axes and Figure', fontsize=18)\n",
    "plt.show()"
   ]
  },
  {
   "cell_type": "markdown",
   "metadata": {},
   "source": [
    "***12) How to customize matplotlib’s subplots layout.***"
   ]
  },
  {
   "cell_type": "code",
   "execution_count": null,
   "metadata": {},
   "outputs": [],
   "source": [
    "# Supplot2grid approach\n",
    "fig = plt.figure()\n",
    "ax1 = plt.subplot2grid((3,3), (0,0), colspan=2, rowspan=2) # topleft\n",
    "ax3 = plt.subplot2grid((3,3), (0,2), rowspan=3)            # right\n",
    "ax4 = plt.subplot2grid((3,3), (2,0))                       # bottom left\n",
    "ax5 = plt.subplot2grid((3,3), (2,1))                       # bottom right\n",
    "fig.tight_layout()"
   ]
  },
  {
   "cell_type": "markdown",
   "metadata": {},
   "source": [
    " GridSpec Approach 1"
   ]
  },
  {
   "cell_type": "code",
   "execution_count": null,
   "metadata": {},
   "outputs": [],
   "source": [
    "import matplotlib.gridspec as gridspec\n",
    "fig = plt.figure()\n",
    "grid = plt.GridSpec(2, 3)  # 2 rows 3 cols\n",
    "plt.subplot(grid[0, :2])  # top left\n",
    "plt.subplot(grid[0, 2])   # top right\n",
    "plt.subplot(grid[1, :1])  # bottom left\n",
    "plt.subplot(grid[1, 1:])  # bottom right\n",
    "fig.tight_layout()"
   ]
  },
  {
   "cell_type": "markdown",
   "metadata": {},
   "source": [
    " ##### Inner plot that zooms in to a larger plot.#####"
   ]
  },
  {
   "cell_type": "code",
   "execution_count": null,
   "metadata": {},
   "outputs": [],
   "source": [
    "# Plot inside a plot\n",
    "plt.style.use('seaborn-whitegrid')\n",
    "fig, ax = plt.subplots(figsize=(10,6))\n",
    "x = np.linspace(-0.50, 1., 1000)\n",
    "\n",
    "# Outer Plot\n",
    "ax.plot(x, x**2)\n",
    "ax.plot(x, np.sin(x))\n",
    "ax.set(xlim=(-0.5, 1.0), ylim=(-0.5,1.2))\n",
    "fig.tight_layout()\n",
    "\n",
    "# Inner Plot\n",
    "inner_ax = fig.add_axes([0.2, 0.55, 0.35, 0.35]) # x, y, width, height\n",
    "inner_ax.plot(x, x**2)\n",
    "inner_ax.plot(x, np.sin(x))\n",
    "inner_ax.set(title='Zoom In', xlim=(-.2, .2), ylim=(-.01, .02), \n",
    "             yticks = [-0.01, 0, 0.01, 0.02], xticks=[-0.1,0,.1])\n",
    "ax.set_title(\"Plot inside a Plot\", fontsize=30)\n",
    "plt.show()\n",
    "mpl.rcParams.update(mpl.rcParamsDefault)  # reset to defaults"
   ]
  },
  {
   "cell_type": "markdown",
   "metadata": {},
   "source": [
    "***13) How is scatterplot drawn with plt.plot different from plt.scatter ***"
   ]
  },
  {
   "cell_type": "code",
   "execution_count": null,
   "metadata": {},
   "outputs": [],
   "source": [
    "import pandas as pd\n",
    "midwest = pd.read_csv(\"https://raw.githubusercontent.com/selva86/datasets/master/midwest_filter.csv\")\n",
    "\n",
    "# Plot\n",
    "fig = plt.figure(figsize=(14, 7), dpi= 80, facecolor='w', edgecolor='k')    \n",
    "plt.scatter('area', 'poptotal', data=midwest, s='dot_size', c='popdensity', cmap='Reds', edgecolors='black', linewidths=.5)\n",
    "plt.title(\"Bubble Plot of PopTotal vs Area\\n(color: 'popdensity' & size: 'dot_size' - both are numeric columns in midwest)\", fontsize=16)\n",
    "plt.xlabel('Area', fontsize=18)\n",
    "plt.ylabel('Poptotal', fontsize=18)\n",
    "plt.colorbar()\n",
    "plt.show()   "
   ]
  },
  {
   "cell_type": "code",
   "execution_count": null,
   "metadata": {},
   "outputs": [],
   "source": [
    "midwest = pd.read_csv(\"https://raw.githubusercontent.com/selva86/datasets/master/midwest_filter.csv\")\n",
    "\n",
    "# Plot\n",
    "fig = plt.figure(figsize=(14, 9), dpi= 50, facecolor='w', edgecolor='k')    \n",
    "colors = plt.cm.tab20.colors\n",
    "categories = np.unique(midwest['category'])\n",
    "for i, category in enumerate(categories):\n",
    "    plt.scatter('area', 'poptotal', data=midwest.loc[midwest.category==category, :], s='dot_size', c=colors[i], label=str(category), edgecolors='black', linewidths=.5)\n",
    "\n",
    "# Legend for size of points\n",
    "for dot_size in [100, 300, 1000]:\n",
    "    plt.scatter([], [], c='k', alpha=0.5, s=dot_size, label=str(dot_size) + ' TotalPop')\n",
    "plt.legend(loc='upper right', scatterpoints=1, frameon=False, labelspacing=2, title='Saravana Stores', fontsize=8)\n",
    "plt.title(\"Bubble Plot of PopTotal vs Area\\n(color: 'category' - a categorical column in midwest)\", fontsize=18)\n",
    "plt.xlabel('Area', fontsize=16)\n",
    "plt.ylabel('Poptotal', fontsize=16)\n",
    "plt.show()     "
   ]
  },
  {
   "cell_type": "markdown",
   "metadata": {},
   "source": [
    "***14) How to draw Histograms, Boxplots and Time Series ***"
   ]
  },
  {
   "cell_type": "code",
   "execution_count": null,
   "metadata": {},
   "outputs": [],
   "source": [
    "\n",
    "# Setup the subplot2grid Layout\n",
    "fig = plt.figure(figsize=(10, 5))\n",
    "ax1 = plt.subplot2grid((2,4), (0,0)) \n",
    "ax2 = plt.subplot2grid((2,4), (0,1)) \n",
    "ax3 = plt.subplot2grid((2,4), (0,2)) \n",
    "ax4 = plt.subplot2grid((2,4), (0,3)) \n",
    "ax5 = plt.subplot2grid((2,4), (1,0), colspan=2) \n",
    "ax6 = plt.subplot2grid((2,4), (1,2)) \n",
    "ax7 = plt.subplot2grid((2,4), (1,3)) \n",
    "\n",
    "# Input Arrays\n",
    "n = np.array([0,1,2,3,4,5])\n",
    "x = np.linspace(0,5,10)\n",
    "xx = np.linspace(-0.75, 1., 100)\n",
    "\n",
    "# Scatterplot\n",
    "ax1.scatter(xx, xx + np.random.randn(len(xx)))\n",
    "ax1.set_title(\"Scatter Plot\")\n",
    "\n",
    "# Step Chart\n",
    "ax2.step(n, n**2, lw=2)\n",
    "ax2.set_title(\"Step Plot\")\n",
    "\n",
    "# Bar Chart\n",
    "ax3.bar(n, n**2, align=\"center\", width=0.5, alpha=0.5)\n",
    "ax3.set_title(\"Bar Chart\")\n",
    "\n",
    "# Fill Between\n",
    "ax4.fill_between(x, x**2, x**3, color=\"steelblue\", alpha=0.5);\n",
    "ax4.set_title(\"Fill Between\");\n",
    "\n",
    "# Time Series\n",
    "dates = pd.date_range('2018-01-01', periods = len(xx))\n",
    "ax5.plot(dates, xx + np.random.randn(len(xx)))\n",
    "ax5.set_xticks(dates[::30])\n",
    "ax5.set_xticklabels(dates.strftime('%Y-%m-%d')[::30])\n",
    "ax5.set_title(\"Time Series\")\n",
    "\n",
    "# Box Plot\n",
    "ax6.boxplot(np.random.randn(len(xx)))\n",
    "ax6.set_title(\"Box Plot\")\n",
    "\n",
    "# Histogram\n",
    "ax7.hist(xx + np.random.randn(len(xx)))\n",
    "ax7.set_title(\"Histogram\")\n",
    "\n",
    "fig.tight_layout()"
   ]
  },
  {
   "cell_type": "markdown",
   "metadata": {},
   "source": [
    " ***15) How to Plot with two Y-Axis*** "
   ]
  },
  {
   "cell_type": "code",
   "execution_count": null,
   "metadata": {},
   "outputs": [],
   "source": [
    "df = pd.read_csv(\"https://github.com/selva86/datasets/raw/master/economics.csv\")\n",
    "x = df['date']; y1 = df['psavert']; y2 = df['unemploy']\n",
    "\n",
    "# Plot Line1 (Left Y Axis)\n",
    "fig, ax1 = plt.subplots(1,1,figsize=(16,7), dpi= 50)\n",
    "ax1.plot(x, y1, color='tab:red')\n",
    "\n",
    "# Plot Line2 (Right Y Axis)\n",
    "ax2 = ax1.twinx()  # instantiate a second axes that shares the same x-axis\n",
    "ax2.plot(x, y2, color='tab:blue')\n",
    "\n",
    "# Just Decorations!! -------------------\n",
    "# ax1 (left y axis)\n",
    "ax1.set_xlabel('Year', fontsize=20)\n",
    "ax1.set_ylabel('Personal Savings Rate', color='tab:red', fontsize=20)\n",
    "ax1.tick_params(axis='y', rotation=0, labelcolor='tab:red' )\n",
    "\n",
    "# ax2 (right Y axis)\n",
    "ax2.set_ylabel(\"# Unemployed (1000's)\", color='tab:blue', fontsize=20)\n",
    "ax2.tick_params(axis='y', labelcolor='tab:blue')\n",
    "ax2.set_title(\"Personal Savings Rate vs Unemployed: Plotting in Secondary Y Axis\", fontsize=20)\n",
    "ax2.set_xticks(np.arange(0, len(x), 60))\n",
    "ax2.set_xticklabels(x[::60], rotation=90, fontdict={'fontsize':10})\n",
    "plt.show()"
   ]
  },
  {
   "cell_type": "code",
   "execution_count": null,
   "metadata": {},
   "outputs": [],
   "source": [
    " ***16) Draw multiple plots using for-loops using object oriented syntax*** "
   ]
  },
  {
   "cell_type": "code",
   "execution_count": null,
   "metadata": {},
   "outputs": [],
   "source": [
    "import numpy as np\n",
    "from numpy.random import seed, randint\n",
    "seed(100)\n",
    "\n",
    "# Create Figure and Subplots\n",
    "fig, axes = plt.subplots(2,2, figsize=(10,6), sharex=True, sharey=True, dpi=70)\n",
    "\n",
    "# Define the colors and markers to use\n",
    "colors = {0:'g', 1:'b', 2:'r', 3:'m'}\n",
    "markers = {0:'o', 1:'x', 2:'*', 3:'p'}\n",
    "\n",
    "# Plot each axes\n",
    "for i, ax in enumerate(axes.ravel()):\n",
    "    ax.plot(sorted(randint(0,10,10)), sorted(randint(0,10,10)), marker=markers[i], color=colors[i])  \n",
    "    ax.set_title('Ax: ' + str(i))\n",
    "    ax.yaxis.set_ticks_position('none')\n",
    "\n",
    "plt.suptitle('Four Subplots in One Figure', verticalalignment='top', fontsize=20)    \n",
    "plt.tight_layout()\n",
    "plt.show()\n",
    "\n"
   ]
  },
  {
   "cell_type": "markdown",
   "metadata": {},
   "source": [
    "# Pie Plots"
   ]
  },
  {
   "cell_type": "markdown",
   "metadata": {},
   "source": [
    "***17) simple pie plots***"
   ]
  },
  {
   "cell_type": "markdown",
   "metadata": {},
   "source": [
    "Examples using matplotlib.pyplot.pie\n",
    "\n",
    "Basic pie chart,\n",
    "Pie Demo2,\n",
    "Nested pie charts,\n",
    "Labeling a pie and a donut\n",
    "\n",
    "\n",
    "\n",
    "pyplot.pie(x, explode=None, labels=None, colors=None, autopct=None, pctdistance=0.6, shadow=False, labeldistance=1.1,\n",
    "           startangle=None, radius=None, counterclock=True, wedgeprops=None, textprops=None, center=(0, 0), frame=False, \n",
    "           rotatelabels=False, data=None)"
   ]
  },
  {
   "cell_type": "code",
   "execution_count": null,
   "metadata": {},
   "outputs": [],
   "source": [
    "slices = [7,2,2,13,12,8]\n",
    "activities = ['sleeping','eating','working','playing','travelling','training']\n",
    "cols = ['c','m','r','b','y','r']\n",
    "ex = (0,0.1,0.3,0,0,0.1)\n",
    "\n",
    "\n",
    "plt.pie(slices, labels=activities, colors=cols)\n",
    "plt.title=\"Pie chart\"\n",
    "plt.show()"
   ]
  },
  {
   "cell_type": "code",
   "execution_count": null,
   "metadata": {},
   "outputs": [],
   "source": [
    "labels = 'Dan','Sean','Andy','Mike','Kerry'\n",
    "\n",
    "cake_consumption = [10, 15, 12, 30, 100]\n",
    "\n",
    "plt.pie(cake_consumption, labels=labels)\n",
    "plt.title='PenCHORDs Cake Consumption'\n",
    "\n",
    "plt.show()"
   ]
  },
  {
   "cell_type": "markdown",
   "metadata": {},
   "source": [
    "***18) pie plotting functions***"
   ]
  },
  {
   "cell_type": "code",
   "execution_count": null,
   "metadata": {},
   "outputs": [],
   "source": [
    "# Data to plot\n",
    "labels = 'Windows', 'Ubuntu', 'Solarix', 'Machintosh'\n",
    "sizes = [215, 130, 245, 210]\n",
    "colors = ['gold', 'yellowgreen', 'lightcoral', 'lightskyblue']\n",
    "explode = (0.1, 0, 0, 0)  # explode 1st slice\n",
    "\n",
    "# Plot\n",
    "plt.pie(sizes, explode=explode, labels=labels, colors=colors, autopct='%1.1f%%', shadow=True, startangle=140)\n",
    "plt.axis('equal')\n",
    "plt.title='Courses'\n",
    "plt.show()"
   ]
  },
  {
   "cell_type": "code",
   "execution_count": null,
   "metadata": {},
   "outputs": [],
   "source": [
    "labels = ['Cookies', 'Jellybean', 'Milkshake', 'Cheesecake']\n",
    "sizes = [38.4, 40.6, 20.7, 10.3]\n",
    "colors = ['yellowgreen', 'gold', 'lightskyblue', 'lightcoral']\n",
    "patches, texts = plt.pie(sizes, colors=colors, shadow=True, startangle=90)\n",
    "plt.legend(patches, labels, loc=\"best\")\n",
    "plt.axis('equal')\n",
    "plt.title=(\"Courses\")\n",
    "plt.tight_layout()\n",
    "plt.show()"
   ]
  },
  {
   "cell_type": "code",
   "execution_count": null,
   "metadata": {},
   "outputs": [],
   "source": [
    "slices = [7,2,2,13]\n",
    "activities = ['sleeping','eating','working','playing']\n",
    "cols = ['c','m','r','b']\n",
    "\n",
    "plt.pie(slices,\n",
    "        labels=activities,\n",
    "        colors=cols,\n",
    "        startangle=90,\n",
    "        shadow= True,\n",
    "        rotatelabels=False,\n",
    "        explode=(0,0.1,0.3,0),\n",
    "        autopct='%1.1f%%')\n",
    "\n",
    "plt.title=('Interesting Graph\\nCheck it out')\n",
    "plt.legend(slices, loc='lower left', bbox_to_anchor=(1.09, 1), fancybox=True,ncol=1, )\n",
    "plt.show()\n",
    "\n"
   ]
  },
  {
   "cell_type": "markdown",
   "metadata": {},
   "source": [
    "Autopct parameter of the arc() function controls how the percentages are displayed in the wedges.\n",
    "Either format string starting with a % can be specified or a function can be specified.\n",
    "e.g., %.1f will display percentage values in the format 25.0, 35.2 and so on. \n",
    "f gives floating and 'a' gives int val. \n",
    "\n",
    "      %.2f%% will display percentage values in the format 50.25, 75.5 and so on.\n",
    "\n",
    "-> startangle actually set the starting angle of pie\n",
    "\n",
    "-> Values are displayed clock wise with counterclock=False"
   ]
  },
  {
   "cell_type": "code",
   "execution_count": null,
   "metadata": {},
   "outputs": [],
   "source": [
    "plt.pie([7,2,2,5,13],\n",
    "        labels=['playing', 'working', 'travelling', 'sleeping', 'training'],\n",
    "            colors=['c','m','r','b','y'],\n",
    "        shadow= True,\n",
    "        rotatelabels=True,\n",
    "        counterclock=True,\n",
    "        explode=(0,0,0,0.1,0),\n",
    "        autopct='%1.1f%%')\n",
    "plt.title='Interesting Graph'\n",
    "plt.show()\n",
    "\n",
    "\n",
    "# -> There are number of arguments we can use. Some of them are given below.\n",
    "# -> matplotlib.pyplot.pie(x, explode=None, labels=None, colors=None, autopct=None, pctdistance=0.6, shadow=False,\n",
    "# -> labeldistance=1.1, startangle=None, radius=None, counterclock=True, wedgeprops=None, textprops=None, center=(0, 0), \n",
    "# -> frame=False, rotatelabels=False, *, data=None)[source]\n",
    "\n",
    "\n"
   ]
  },
  {
   "cell_type": "markdown",
   "metadata": {},
   "source": [
    "***19) Pie plot using subplot function***"
   ]
  },
  {
   "cell_type": "code",
   "execution_count": null,
   "metadata": {},
   "outputs": [],
   "source": [
    "\n",
    "labels = 'Frogs', 'Hogs', 'Dogs', 'Logs'\n",
    "sizes = [15, 30, 45, 10]\n",
    "explode = (0, 0.1, 0, 0)  # only \"explode\" the 2nd slice (i.e. 'Hogs')\n",
    "\n",
    "fig1, ax1 = plt.subplots()\n",
    "ax1.pie(sizes, explode=explode, labels=labels, autopct='%1.1f%%',\n",
    "        shadow=True, startangle=90)\n",
    "ax1.axis('equal')  # Equal aspect ratio ensures that pie is drawn as a circle.\n",
    "\n",
    "plt.show()"
   ]
  },
  {
   "cell_type": "markdown",
   "metadata": {},
   "source": [
    "***20) Sub-pie plots***"
   ]
  },
  {
   "cell_type": "code",
   "execution_count": null,
   "metadata": {},
   "outputs": [],
   "source": [
    "import matplotlib.pyplot as plt\n",
    "\n",
    "# Some data\n",
    "labels = 'Frogs', 'Hogs', 'Dogs', 'Logs'\n",
    "fracs = [15, 30, 45, 10]\n",
    "\n",
    "# Make figure and axes\n",
    "fig, axs = plt.subplots(2, 2)\n",
    "\n",
    "# A standard pie plot\n",
    "axs[0, 0].pie(fracs, labels=labels, autopct='%1.1f%%', shadow=True)\n",
    "\n",
    "# Shift the second slice using explode\n",
    "axs[0, 1].pie(fracs, labels=labels, autopct='%.0f%%', shadow=True,\n",
    "              explode=(0, 0.1, 0, 0))\n",
    "\n",
    "# Adapt radius and text size for a smaller pie\n",
    "patches, texts, autotexts = axs[1, 0].pie(fracs, labels=labels,\n",
    "                                          autopct='%.0f%%',\n",
    "                                          textprops={'size': 'smaller'},\n",
    "                                          shadow=True, radius=0.5)\n",
    "# Make percent texts even smaller\n",
    "plt.setp(autotexts, size='x-small')\n",
    "autotexts[0].set_color('white')\n",
    "\n",
    "# Use a smaller explode and turn of the shadow for better visibility\n",
    "patches, texts, autotexts = axs[1, 1].pie(fracs, labels=labels,\n",
    "                                          autopct='%.0f%%',\n",
    "                                          textprops={'size': 'smaller'},\n",
    "                                          shadow=False, radius=0.5,\n",
    "                                          explode=(0, 0.05, 0, 0))\n",
    "plt.setp(autotexts, size='x-small')\n",
    "autotexts[0].set_color('white')\n",
    "\n",
    "plt.show()"
   ]
  },
  {
   "cell_type": "markdown",
   "metadata": {},
   "source": [
    "***21) Importing & plotting colomns from a dataset.***"
   ]
  },
  {
   "cell_type": "code",
   "execution_count": null,
   "metadata": {},
   "outputs": [],
   "source": [
    "val=pd.read_csv('income.csv')\n",
    "t=val['saving'].head()\n",
    "plt.pie(t, explode=[0,0,0,0,0.2],colors=('steelblue', 'skyblue', 'blue', 'grey', 'violet'), labels=t, autopct='%1.1f%%', shadow=True)\n",
    "plt.title=('report')\n",
    "plt.show()\n",
    "\n",
    "#ax1.pie(sizes, explode=explode, labels=labels, autopct='%1.1f%%autopct='%1.1f%%'', shadow=True, startangle=90)"
   ]
  },
  {
   "cell_type": "code",
   "execution_count": null,
   "metadata": {},
   "outputs": [],
   "source": [
    "df=pd.read_csv('cars2.csv')\n",
    "df2 = df.groupby([\"manufacturer\"]).size().to_frame(\"count\").reset_index()\n",
    "x=list(df2['manufacturer'])\n",
    "y=list(df2['count'])\n",
    "plt.title='Interesting Graph'\n",
    "plt.pie(y,labels=x,shadow= True,autopct='%1.1f%%')\n",
    "plt.show()"
   ]
  },
  {
   "cell_type": "code",
   "execution_count": null,
   "metadata": {},
   "outputs": [],
   "source": [
    "from matplotlib.font_manager import FontProperties\n",
    "df =  pd.read_csv('m.csv')\n",
    "country_data = df[\"country\"]\n",
    "medal_data = df[\"medal\"]\n",
    "colors = [\"#1f77b4\", \"#ff7f0e\", \"#2ca02c\", \"#d62728\", \"#8c564b\"]\n",
    "explode = (0.1, 0, 0, 0, 0)  \n",
    "plt.pie(medal_data, labels=country_data, explode=explode, radius=1.5 , colors=colors,\n",
    "autopct='%1.1f%%', shadow=True, startangle=180)\n",
    "plt.title(\"Gold medal\")\n",
    "plt.legend(country_data, loc='lower left', bbox_to_anchor=(1.09, 1), fancybox=True,ncol=1, )\n",
    "#ax.legend( bbox_to_anchor=(0.5, 1.05),ncol=3, fancybox=True, shadow=True)\n",
    "plt.tight_layout()\n",
    "plt.gca().set_aspect(\"equal\")\n",
    "plt.show()"
   ]
  },
  {
   "cell_type": "markdown",
   "metadata": {},
   "source": [
    "***22) plotting a pie chart of a column from given csv file ***"
   ]
  },
  {
   "cell_type": "code",
   "execution_count": null,
   "metadata": {},
   "outputs": [],
   "source": [
    "df=pd.read_csv('https://raw.githubusercontent.com/azhar2ds/Pandas/master/cars2.csv')\n",
    "c=list(df['manufacturer'])\n",
    "df = pd.DataFrame(c, columns= [\"manufacturer\"])\n",
    "df[\"manufacturer\"].value_counts().plot.pie(shadow=True, autopct='%1.1f%%', center=(0, 0), title='chart',labeldistance=1.3)\n",
    "plt.gca().set_aspect(\"equal\")\n",
    "plt.tight_layout(rect=[0,0,0.75,1])\n"
   ]
  },
  {
   "cell_type": "markdown",
   "metadata": {},
   "source": [
    "***23) saving of a plot ***"
   ]
  },
  {
   "cell_type": "code",
   "execution_count": null,
   "metadata": {},
   "outputs": [],
   "source": [
    "val=pd.read_csv('income.csv')\n",
    "t=val['saving'].head()\n",
    "plt.pie(t, explode=[0,0,0,0,0.2],colors=('steelblue', 'skyblue', 'blue', 'grey', 'violet'), labels=t, autopct='%1.1f%%', shadow=True)\n",
    "plt.title=('report')\n",
    "plt.show()\n",
    "plt.savefig(\"plotdiagram.png\", bbox_inches=\"tight\")"
   ]
  },
  {
   "cell_type": "markdown",
   "metadata": {},
   "source": [
    "# Histogram Plotting"
   ]
  },
  {
   "cell_type": "markdown",
   "metadata": {},
   "source": [
    "***24) Histogram Plotting**"
   ]
  },
  {
   "cell_type": "markdown",
   "metadata": {},
   "source": [
    "Axes.hist(self, x, bins=None, range=None, density=None, weights=None, cumulative=False, bottom=None, histtype='bar',\n",
    "align='mid', orientation='vertical', rwidth=None, log=False, color=None, label=None, stacked=False, normed=None, *, \n",
    "data=None, **kwargs)"
   ]
  },
  {
   "cell_type": "code",
   "execution_count": null,
   "metadata": {},
   "outputs": [],
   "source": [
    "x = [1,1,2,3,3,5,7,8,9,10,\n",
    "     10,11,11,13,13,15,16,17,18,18,\n",
    "     18,19,20,21,21,23,24,24,25,25,\n",
    "     25,25,26,26,26,27,27,27,27,27,\n",
    "     29,30,30,31,33,34,34,34,35,36,\n",
    "     36,37,37,38,38,39,40,41,41,42,\n",
    "     43,44,45,45,46,47,48,48,49,50,\n",
    "     51,52,53,54,55,55,56,57,58,60,\n",
    "     61,63,64,65,66,68,70,71,72,74,\n",
    "     75,77,81,83,84,87,89,90,90,91\n",
    "     ]\n",
    "print(plt.style.available) # checking available styles of plotting.\n",
    "#plt.style.use('seaborn-paper')\n",
    "#plt.style.use('ggplot')\n",
    "#plt.hist(x, bins=10)\n"
   ]
  },
  {
   "cell_type": "markdown",
   "metadata": {},
   "source": [
    "***25) Plotting histogram with different available styles***"
   ]
  },
  {
   "cell_type": "code",
   "execution_count": null,
   "metadata": {},
   "outputs": [],
   "source": [
    "x = [1,1,2,3,3,5,7,8,9,10,\n",
    "     10,11,11,13,13,15,16,17,18,18,\n",
    "     18,19,20,21,21,23,24,24,25,25,\n",
    "     25,25,26,26,26,27,27,27,27,27,\n",
    "     29,30,30,31,33,34,34,34,35,36,\n",
    "     36,37,37,38,38,39,40,41,41,42,\n",
    "     43,44,45,45,46,47,48,48,49,50,\n",
    "     51,52,53,54,55,55,56,57,58,60,\n",
    "     61,63,64,65,66,68,70,71,72,74,\n",
    "     75,77,81,83,84,87,89,90,90,91\n",
    "     ]\n",
    "\n",
    "print(plt.style.available)\n",
    "#plt.style.use('seaborn-paper')\n",
    "#plt.style.use('ggplot')\n",
    "#plt.hist(x, bins=10)\n"
   ]
  },
  {
   "cell_type": "code",
   "execution_count": null,
   "metadata": {},
   "outputs": [],
   "source": [
    "x = [1,1,2,3,3,5,7,8,9,10,\n",
    "     10,11,11,13,13,15,16,17,18,18,\n",
    "     18,19,20,21,21,23,24,24,25,25,\n",
    "     25,25,26,26,26,27,27,27,27,27,\n",
    "     29,30,30,31,33,34,34,34,35,36,\n",
    "     36,37,37,38,38,39,40,41,41,42,\n",
    "     43,44,45,45,46,47,48,48,49,50,\n",
    "     51,52,53,54,55,55,56,57,58,60,\n",
    "     61,63,64,65,66,68,70,71,72,74,\n",
    "     75,77,81,83,84,87,89,90,90,91\n",
    "     ]\n",
    "plt.figure(figsize=(10,7), dpi= 40)\n",
    "plt.style.use('fivethirtyeight')\n",
    "plt.hist(x, bins=10)"
   ]
  },
  {
   "cell_type": "markdown",
   "metadata": {},
   "source": [
    "***26) Joypy module for bar plot***"
   ]
  },
  {
   "cell_type": "code",
   "execution_count": null,
   "metadata": {},
   "outputs": [],
   "source": [
    "# pip install joypy\n",
    "import joypy as jp\n",
    "data = pd.read_csv(\"cars2.csv\")\n",
    "# Draw Plot\n",
    "plt.figure(figsize=(1,70), dpi=60,  )\n",
    "fig, axes=jp.joyplot(data, column=['hwy', 'cty'], by=\"class\", linewidth=, figsize=(12,7), ylim='own', colormap=plt.cm.tab20_r)\n",
    "\n",
    "            \n",
    "# Decoration\n",
    "plt.title=('Joy Plot of City and Highway Mileage by Class')\n",
    "#plt.show()"
   ]
  },
  {
   "cell_type": "markdown",
   "metadata": {},
   "source": [
    "# ***27) Bar plot***"
   ]
  },
  {
   "cell_type": "markdown",
   "metadata": {},
   "source": [
    "***pyplot.bar(x, height, width=0.8, bottom=None, *, align='center', data=None, **kwargs)***"
   ]
  },
  {
   "cell_type": "code",
   "execution_count": null,
   "metadata": {},
   "outputs": [],
   "source": [
    "a=pd.read_csv('income.csv')\n",
    "saving=list(a['saving'])\n",
    "cars=list(a['cars'])\n",
    "\n",
    "plt.bar(cars, saving)\n",
    " \n",
    "plt.xlabel('cars owns', fontweight='bold', color = 'orange', fontsize='17',  horizontalalignment='center', verticalalignment='bottom', fontdict={'fontweight':900, 'size':00})\n",
    "\n",
    "plt.ylabel('Savings', color = 'orange', fontsize='17', horizontalalignment='center')\n"
   ]
  },
  {
   "cell_type": "markdown",
   "metadata": {},
   "source": [
    "***Simple histogram plotting from a list converted dataframe.***"
   ]
  },
  {
   "cell_type": "code",
   "execution_count": null,
   "metadata": {},
   "outputs": [],
   "source": [
    "data = [['E001', 'M', 34, 123, 'Normal', 350], \n",
    "        ['E002', 'F', 40, 114, 'Overweight', 450], \n",
    "        ['E003', 'F', 37, 135, 'Obesity', 169], \n",
    "        ['E004', 'M', 30, 139, 'Underweight', 189], \n",
    "        ['E005', 'F', 44, 117, 'Underweight', 183], \n",
    "        ['E006', 'M', 36, 121, 'Normal', 80], \n",
    "        ['E007', 'M', 32, 133, 'Obesity', 166], \n",
    "        ['E008', 'F', 26, 140, 'Normal', 120], \n",
    "        ['E009', 'M', 32, 133, 'Normal', 75], \n",
    "        ['E010', 'M', 36, 133, 'Underweight', 40] ]\n",
    "df = pd.DataFrame(data, columns = ['EMPID', 'Gender', 'Age', 'Sales', 'BMI', 'Income'] ) \n",
    "\n",
    "df.hist()"
   ]
  },
  {
   "cell_type": "code",
   "execution_count": null,
   "metadata": {},
   "outputs": [],
   "source": [
    "df=pd.read_csv('income.csv')\n",
    "plt.bar(df['cars'], df['saving']) \n",
    "plt.xlabel(\"No Of cars\") \n",
    "plt.ylabel(\"Savings in bank\") \n",
    "plt.show()"
   ]
  },
  {
   "cell_type": "markdown",
   "metadata": {},
   "source": [
    "***28) Bar plotting from a csv file***"
   ]
  },
  {
   "cell_type": "code",
   "execution_count": null,
   "metadata": {},
   "outputs": [],
   "source": [
    " import random\n",
    "df_raw = pd.read_csv(\"cars2.csv\")\n",
    "\n",
    "# Prepare Data\n",
    "df = df_raw.groupby('manufacturer').size().reset_index(name='counts')\n",
    "n = df['manufacturer'].unique().__len__()+1\n",
    "all_colors = list(plt.cm.colors.cnames.keys())\n",
    "random.seed(100)\n",
    "c = random.choices(all_colors, k=n)\n",
    "print(len(c))\n",
    "# Plot Bars\n",
    "plt.figure(figsize=(14,6), dpi= 70)\n",
    "plt.bar(df['manufacturer'], df['counts'], color=c, width=.8)\n",
    "for i, val in enumerate(df['counts'].values):\n",
    "    plt.text(i, val, float(val), horizontalalignment='center', verticalalignment='bottom', fontdict={'fontweight':800, 'size':12})\n",
    "\n",
    "# Decoration\n",
    "plt.gca().set_xticklabels(df['manufacturer'], rotation=60, horizontalalignment= 'right')\n",
    "plt.ylabel('Vehicles')\n",
    "plt.ylim(0, 45)\n",
    "plt.show()"
   ]
  },
  {
   "cell_type": "markdown",
   "metadata": {},
   "source": [
    "***29) Pyplot libarary for visualization***"
   ]
  },
  {
   "cell_type": "code",
   "execution_count": null,
   "metadata": {},
   "outputs": [],
   "source": [
    "pyplot has 34 sub-modules. Each module has its own functions.\n",
    "you can check few modules given below."
   ]
  },
  {
   "cell_type": "code",
   "execution_count": null,
   "metadata": {},
   "outputs": [],
   "source": [
    "import plotly as px\n",
    "import plotly.version as pxv\n",
    "import plotly.colors as pxc\n",
    "import plotly.data as pxd\n",
    "import plotly.subplots as pxs\n",
    "import plotly.tools as pxt\n",
    "import plotly.express as epx\n",
    "import plotly.graph_objects as pgo\n",
    "import plotly.io as pio\n",
    "import plotly.offline as pfl"
   ]
  },
  {
   "cell_type": "code",
   "execution_count": null,
   "metadata": {},
   "outputs": [],
   "source": [
    "print(dir(px))"
   ]
  },
  {
   "cell_type": "code",
   "execution_count": null,
   "metadata": {},
   "outputs": [],
   "source": [
    "print(\"plotly\", len(dir(px)))\n",
    "print(\"plotly.version\", len(dir(pxv)))\n",
    "print(\"plotly.colors\",len(dir(pxc)))\n",
    "print(\"plotly.data\", len(dir(pxd)))\n",
    "print(\"plotly.subplots\", len(dir(pxs)))\n",
    "print(\"plotly.tools\", len(dir(pxt)))\n",
    "print(\"plotly.express\", len(dir(epx)))\n",
    "print(\"plotly.graph_objects\", len(dir(pgo)))\n",
    "print(\"plotly.io\", len(dir(pio)))\n",
    "print(\"plotly.offline\", len(dir(pfl)))"
   ]
  },
  {
   "cell_type": "code",
   "execution_count": null,
   "metadata": {},
   "outputs": [],
   "source": [
    "a=pd.read_csv('income.csv')\n",
    "cars=list(a['cars'])\n",
    "pgo.Figure(data=pgo.Bar(y=cars))"
   ]
  },
  {
   "cell_type": "code",
   "execution_count": null,
   "metadata": {},
   "outputs": [],
   "source": [
    "#if we want to use figureWidget function then we have to install the following\n",
    "#pip install jupyterlab==1.0 \"ipywidgets>=7.5\"\n",
    "\n",
    "a=pd.read_csv('income.csv')\n",
    "cars=list(a['cars'])\n",
    "b=pgo.FigureWidget(data=pgo.Bar(y=cars))\n",
    "b.show()"
   ]
  },
  {
   "cell_type": "markdown",
   "metadata": {},
   "source": [
    "***30) histogram with plotly***"
   ]
  },
  {
   "cell_type": "code",
   "execution_count": null,
   "metadata": {},
   "outputs": [],
   "source": [
    "a=pd.read_csv('income.csv')\n",
    "cars=list(a['cars'])\n",
    "fig = epx.histogram(a, x=\"saving\", color=\"cars\")\n",
    "fig.show()"
   ]
  },
  {
   "cell_type": "code",
   "execution_count": null,
   "metadata": {},
   "outputs": [],
   "source": [
    "tips = epx.data.tips()\n",
    "fig = epx.histogram(tips, x=\"total_bill\", y=\"tip\", histfunc='avg')\n",
    "fig.show()"
   ]
  },
  {
   "cell_type": "code",
   "execution_count": null,
   "metadata": {},
   "outputs": [],
   "source": [
    "p=pd.read_csv('cars2.csv')\n",
    "t=p.groupby(['manufacturer']).size().to_frame('li').reset_index()\n",
    "fig = pgo.Figure()\n",
    "fig.add_trace(pgo.Histogram(histfunc=\"count\", y=list(t['li']), x=list(t['manufacturer'])))\n",
    "fig.add_trace(pgo.Histogram(histfunc=\"sum\", y=list(t['li']), x=list(t['manufacturer'])))\n",
    "\n",
    "fig.show()"
   ]
  },
  {
   "cell_type": "markdown",
   "metadata": {},
   "source": [
    "***31)Customize bar chart with Plotly Express***"
   ]
  },
  {
   "cell_type": "code",
   "execution_count": null,
   "metadata": {},
   "outputs": [],
   "source": [
    "data = epx.data.gapminder() # gapminder is prebuilt dataset in plotly.express.data module.\n",
    "\n",
    "data_canada = data[data.country == 'Canada']\n",
    "fig = epx.bar(data_canada, x='year', y='pop',hover_data=['lifeExp', 'gdpPercap'], color='lifeExp',\n",
    "             labels={'pop':'population of Canada'}, height=400)\n",
    "fig.show()"
   ]
  },
  {
   "cell_type": "code",
   "execution_count": null,
   "metadata": {},
   "outputs": [],
   "source": [
    "i=pd.read_csv('income.csv')\n",
    "fig = epx.bar(i, x=\"cars\", y=\"saving\", color='income')\n",
    "fig.show()"
   ]
  },
  {
   "cell_type": "markdown",
   "metadata": {},
   "source": [
    "***32) Grouping the column and bar chart***"
   ]
  },
  {
   "cell_type": "code",
   "execution_count": null,
   "metadata": {},
   "outputs": [],
   "source": [
    "import plotly.graph_objects as go\n",
    "i=pd.read_csv('cars2.csv')\n",
    "companies=i.groupby(['manufacturer']).size().to_frame('c').reset_index()\n",
    "car=list(companies['manufacturer'])\n",
    "no=list(companies['c'])\n",
    "f=go.Figure([go.Bar(x=car, y=no)])\n",
    "#pgo.Figure([pgo.Bar(x=value, y= value, text=x|y value, textposition='auto', width=[], base=100, marker_color='red',\n",
    ")])\n",
    "\n",
    "\n",
    "f=pgo.Figure([pgo.Bar(x=classes, y=size, text=size, textposition='auto', width=[0.4, 0.9, 0.8, 0.5, 0.6, 0.7, 1.0])]) \n",
    "f.update_layout(title_text='Car type Classification')\n",
    "#f.update_layout(title='Survey', xaxis_tickfont_size=13, yaxis=dict(title='Total cars', titlefont_size=30,tickfont_size=12))\n",
    "\n",
    "\n",
    "\n",
    "f.show()"
   ]
  },
  {
   "cell_type": "markdown",
   "metadata": {},
   "source": [
    "***33)Bar Chart with Direct Labels***"
   ]
  },
  {
   "cell_type": "code",
   "execution_count": null,
   "metadata": {},
   "outputs": [],
   "source": [
    "data_frame=pd.read_csv('cars2.csv')\n",
    "value=i.groupby(['manufacturer']).size().to_frame('names').reset_index()\n",
    "companies=list(value['manufacturer'])\n",
    "numbers=list(value['names'])\n",
    "\n",
    "f=pgo.Figure([pgo.Bar(x=companies, y=numbers, text=numbers, textposition='auto')]) \n",
    "\n",
    "f.update_layout(title='Survey', xaxis_tickfont_size=13, yaxis=dict(title='Total cars', titlefont_size=30,tickfont_size=12))\n",
    "f.show()"
   ]
  },
  {
   "cell_type": "markdown",
   "metadata": {},
   "source": [
    "***34) Customizing Individual Bar Widths***"
   ]
  },
  {
   "cell_type": "code",
   "execution_count": null,
   "metadata": {},
   "outputs": [],
   "source": [
    "data_frame=pd.read_csv('cars2.csv')\n",
    "data=data_frame.groupby(['class']).size().to_frame('size').reset_index()\n",
    "classes=list(data['class'])\n",
    "size=list(data['size'])\n",
    "\n",
    "\n",
    "f=pgo.Figure([pgo.Bar(x=classes, y=size, text=size, textposition='auto', width=[0.4, 0.9, 0.8, 0.5, 0.6, 0.7, 1.0])]) \n",
    "f.update_layout(title_text='Car type Classification')\n",
    "f.show()"
   ]
  },
  {
   "cell_type": "code",
   "execution_count": null,
   "metadata": {},
   "outputs": [],
   "source": [
    "x = np.linspace(0, 10, 30)\n",
    "y = np.sin(x)\n",
    "plt.plot(x, y, '-p', color='gray',\n",
    "         markersize=15, linewidth=4,\n",
    "         markerfacecolor='white',\n",
    "         markeredgecolor='gray',\n",
    "         markeredgewidth=2)\n",
    "plt.ylim(-1.2, 1.2);"
   ]
  },
  {
   "cell_type": "markdown",
   "metadata": {},
   "source": [
    "# Scatter plot"
   ]
  },
  {
   "cell_type": "markdown",
   "metadata": {},
   "source": [
    " ***35)Plotting from a list***\n",
    "    \n",
    "pyplot.scatter(x, y, s=None, c=None, marker=None, cmap=None, norm=None, vmin=None, vmax=None, alpha=None, linewidths=None,\n",
    "               verts=None, edgecolors=None, *, plotnonfinite=False, data=None, **kwargs)"
   ]
  },
  {
   "cell_type": "code",
   "execution_count": null,
   "metadata": {},
   "outputs": [],
   "source": [
    "a=pd.read_csv('income.csv')\n",
    "x=list(a['income'])\n",
    "y=list(a['expenses'])\n",
    "\n",
    "area=9\n",
    "\n",
    "# Plot\n",
    "plt.scatter(x, y, s=area, color='red', alpha=0.5, marker='*')\n",
    "plt.title('Ledger')\n",
    "plt.xlabel('income')\n",
    "plt.ylabel('expenses')\n",
    "plt.show()"
   ]
  },
  {
   "cell_type": "code",
   "execution_count": null,
   "metadata": {},
   "outputs": [],
   "source": [
    "rng = np.random.RandomState(0)\n",
    "x = rng.randn(100)\n",
    "y = rng.randn(100)\n",
    "colors = rng.rand(100)\n",
    "sizes = 1000 * rng.rand(100)\n",
    "\n",
    "plt.scatter(x, y, c=colors, s=sizes, alpha=0.3,cmap='viridis')\n",
    "plt.colorbar();"
   ]
  },
  {
   "cell_type": "code",
   "execution_count": null,
   "metadata": {},
   "outputs": [],
   "source": [
    "N = 50\n",
    "x = np.random.rand(N)\n",
    "y = np.random.rand(N)\n",
    "colors = np.random.rand(N)\n",
    "area = (30 * np.random.rand(N))**2  # 0 to 15 point radii\n",
    "\n",
    "plt.scatter(x, y, alpha=0.9, s=area, c=colors)\n",
    "plt.show()"
   ]
  },
  {
   "cell_type": "code",
   "execution_count": null,
   "metadata": {},
   "outputs": [],
   "source": [
    "rng = np.random.RandomState(0)\n",
    "x = np.linspace(0, 10, 30)\n",
    "y = np.sin(x)\n",
    "colors = rng.rand(30)\n",
    "sizes = 1000 * rng.rand(30)\n",
    "\n",
    "plt.scatter(x, y, c=colors, s=sizes, alpha=1.7,cmap='viridis')\n",
    "plt.colorbar();"
   ]
  },
  {
   "cell_type": "markdown",
   "metadata": {},
   "source": [
    "***37) Scatter plot from a list***"
   ]
  },
  {
   "cell_type": "code",
   "execution_count": null,
   "metadata": {},
   "outputs": [],
   "source": [
    "data = [['E001', 'M', 34, 123, 'Normal', 350], \n",
    "        ['E002', 'F', 40, 114, 'Overweight', 450], \n",
    "        ['E003', 'F', 37, 135, 'Obesity', 169], \n",
    "        ['E004', 'M', 30, 139, 'Underweight', 189], \n",
    "        ['E005', 'F', 44, 117, 'Underweight', 183], \n",
    "        ['E006', 'M', 36, 121, 'Normal', 80], \n",
    "        ['E007', 'M', 32, 133, 'Obesity', 166], \n",
    "        ['E008', 'F', 26, 140, 'Normal', 120], \n",
    "        ['E009', 'M', 32, 133, 'Normal', 75], \n",
    "        ['E010', 'M', 36, 133, 'Underweight', 40] ]\n",
    "df = pd.DataFrame(data, columns = ['EMPID', 'Gender', 'Age', 'Sales', 'BMI', 'Income'] )\n",
    "\n",
    "plt.scatter(df['Income'], df['Age'], cmap='viridis', alpha=0.9) \n",
    "plt.show()   \n",
    "# scatter plot between income and sales \n",
    "plt.scatter(df['Income'], df['Sales'],cmap='tab10', alpha=0.5) \n",
    "plt.show() \n",
    "  \n",
    "# scatter plot between sales and age \n",
    "plt.scatter(df['Sales'], df['Age'],  cmap='steelblue', alpha=0.2) \n",
    "plt.show() "
   ]
  },
  {
   "cell_type": "markdown",
   "metadata": {},
   "source": [
    "# Box Pot"
   ]
  },
  {
   "cell_type": "markdown",
   "metadata": {},
   "source": [
    "***box plot function:\n",
    "    \n",
    ".boxplot(x, notch=None, sym=None, vert=None, whis=None, positions=None, widths=None, patch_artist=None, bootstrap=None,\n",
    "         usermedians=None, conf_intervals=None, meanline=None, showmeans=None, showcaps=None, showbox=None, showfliers=None,\n",
    "         boxprops=None, labels=None, flierprops=None, medianprops=None, meanprops=None, capprops=None, whiskerprops=None,\n",
    "         manage_ticks=True, autorange=False, zorder=None, *, data=none)***"
   ]
  },
  {
   "cell_type": "markdown",
   "metadata": {},
   "source": [
    "***38) Basic boxplot***"
   ]
  },
  {
   "cell_type": "code",
   "execution_count": null,
   "metadata": {},
   "outputs": [],
   "source": [
    "a=pd.read_csv('income.csv')\n",
    "df=a['saving']\n",
    "plt.boxplot(df) \n",
    "plt.show() "
   ]
  },
  {
   "cell_type": "markdown",
   "metadata": {},
   "source": [
    "***39)Box plot from a list***"
   ]
  },
  {
   "cell_type": "code",
   "execution_count": null,
   "metadata": {},
   "outputs": [],
   "source": [
    "value1 = [82,76,24,40,67,62,75,78,71,32,98,89,78,67,72,82,87,66,56,52]\n",
    "value2=[62,5,91,25,36,32,96,95,3,90,95,32,27,55,100,15,71,11,37,21]\n",
    "value3=[23,89,12,78,72,89,25,69,68,86,19,49,15,16,16,75,65,31,25,52]\n",
    "value4=[59,73,70,16,81,61,88,98,10,87,29,72,16,23,72,88,78,99,75,30]\n",
    " \n",
    "b=[value1,value2,value3,value4]\n",
    "plt.boxplot(b, patch_artist=True)\n",
    "plt.show()"
   ]
  },
  {
   "cell_type": "code",
   "execution_count": null,
   "metadata": {},
   "outputs": [],
   "source": [
    "a=pd.read_csv('income.csv')\n",
    "df=list(a['income'])\n",
    "df2=list(a['expenses'])\n",
    "df3=list(a['cars'])\n",
    "\n",
    "dc=[df,df2,df]\n",
    "plt.boxplot(dc)\n",
    "plt.show()"
   ]
  },
  {
   "cell_type": "markdown",
   "metadata": {},
   "source": [
    "***40)Horizontal box plot with different colors***"
   ]
  },
  {
   "cell_type": "code",
   "execution_count": 41,
   "metadata": {},
   "outputs": [
    {
     "data": {
      "image/png": "[encoded data removed]",
      "text/plain": [
       "<Figure size 432x288 with 1 Axes>"
      ]
     },
     "metadata": {
      "needs_background": "light"
     },
     "output_type": "display_data"
    }
   ],
   "source": [
    "value1 = [82,76,24,40,67,62,75,78,71,32,98,89,78,67,72,82,87,66,56,52]\n",
    "value2=[62,5,91,25,36,32,96,95,3,90,95,32,27,55,100,15,71,11,37,21]\n",
    "value3=[23,89,12,78,72,89,25,69,68,86,19,49,15,16,16,75,65,31,25,52]\n",
    "value4=[59,73,70,16,81,61,88,98,10,87,29,72,16,23,72,88,78,99,75,30]\n",
    " \n",
    "box_plot_data=[value1,value2,value3,value4]\n",
    "box=plt.boxplot(box_plot_data,vert=0,patch_artist=True,labels=['course1','course2','course3','course4'],\n",
    "            )\n",
    " \n",
    "colors = ['cyan', 'lightblue', 'lightgreen', 'tan']\n",
    "for patch, color in zip(box['boxes'], colors):\n",
    "    patch.set_facecolor(color)\n",
    " \n",
    "plt.show()"
   ]
  },
  {
   "cell_type": "code",
   "execution_count": null,
   "metadata": {},
   "outputs": [],
   "source": []
  },
  {
   "cell_type": "code",
   "execution_count": null,
   "metadata": {},
   "outputs": [],
   "source": []
  },
  {
   "cell_type": "code",
   "execution_count": null,
   "metadata": {},
   "outputs": [],
   "source": []
  }
 ],
 "metadata": {
  "kernelspec": {
   "display_name": "Python 3",
   "language": "python",
   "name": "python3"
  },
  "language_info": {
   "codemirror_mode": {
    "name": "ipython",
    "version": 3
   },
   "file_extension": ".py",
   "mimetype": "text/x-python",
   "name": "python",
   "nbconvert_exporter": "python",
   "pygments_lexer": "ipython3",
   "version": "3.7.3"
  }
 },
 "nbformat": 4,
 "nbformat_minor": 2
}
